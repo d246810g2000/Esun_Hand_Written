{
 "cells": [
  {
   "cell_type": "code",
   "execution_count": 1,
   "metadata": {},
   "outputs": [],
   "source": [
    "import os\n",
    "import cv2\n",
    "import glob\n",
    "import shutil\n",
    "import numpy as np\n",
    "import matplotlib.pyplot as plt\n",
    "import tensorflow as tf\n",
    "from tensorflow.keras.models import load_model\n",
    "os.environ[\"CUDA_VISIBLE_DEVICES\"] = \"1\""
   ]
  },
  {
   "cell_type": "code",
   "execution_count": 2,
   "metadata": {},
   "outputs": [],
   "source": [
    "model = load_model('model-logs/effB0/effB0_224.h5')"
   ]
  },
  {
   "cell_type": "code",
   "execution_count": 3,
   "metadata": {},
   "outputs": [],
   "source": [
    "def bbox_by_black(img):\n",
    "    \n",
    "    block=2\n",
    "    center_distance_ratio=1/4\n",
    "    \n",
    "    top=0\n",
    "    bot=0\n",
    "    left=0\n",
    "    right=0\n",
    "\n",
    "    for y in range(int(img[:,:,0].shape[0]/2+img[:,:,0].shape[0]*center_distance_ratio),img[:,:,0].shape[0]-1):\n",
    "        if img[y,:,0].mean()<block:\n",
    "            top=y\n",
    "            break\n",
    "    if top==0:\n",
    "        top=img[:,:,0].shape[0]\n",
    "\n",
    "\n",
    "    for y in range(int(img[:,:,0].shape[0]/2-img[:,:,0].shape[0]*center_distance_ratio),0,-1):\n",
    "        if img[y,:,0].mean()<block:\n",
    "            bot=y\n",
    "            break\n",
    "\n",
    "\n",
    "    for x in range(int(img[bot:top,:,0].shape[1]/2+img[bot:top,:,0].shape[1]*center_distance_ratio),img[bot:top,:,0].shape[1]-1):\n",
    "        if img[bot:top,x,0].mean()<block:\n",
    "            right=x\n",
    "            break\n",
    "\n",
    "    if right==0:\n",
    "        right=img[bot:top,:,0].shape[1]\n",
    "\n",
    "\n",
    "    for x in range(int(img[bot:top,:,0].shape[1]/2-img[bot:top,:,0].shape[1]*center_distance_ratio),0,-1):\n",
    "        if img[bot:top,x,0].mean()<block:\n",
    "            left=x\n",
    "            break\n",
    "    \n",
    "    return left,right,bot,top"
   ]
  },
  {
   "cell_type": "code",
   "execution_count": 4,
   "metadata": {},
   "outputs": [],
   "source": [
    "def preprocess(file_path, img_size=224):\n",
    "    img_bgr = cv2.imread(file_path)\n",
    "    thresh = cv2.cvtColor(img_bgr, cv2.COLOR_BGR2RGB)\n",
    "    x1, x2, y1, y2 = bbox_by_black(thresh)\n",
    "    crop_img = img_bgr[y1:y2, x1:x2].astype('float32')\n",
    "    img = tf.image.resize_with_pad(crop_img, img_size, img_size)\n",
    "    return img"
   ]
  },
  {
   "cell_type": "code",
   "execution_count": 5,
   "metadata": {},
   "outputs": [],
   "source": [
    "classes = open('./classes.txt', 'r').read().split('\\n')"
   ]
  },
  {
   "cell_type": "code",
   "execution_count": 6,
   "metadata": {},
   "outputs": [],
   "source": [
    "org_data = sorted(glob.glob('./U-2-Net/test_data/test_images/' + os.sep + '*'))\n",
    "mask_data = sorted(glob.glob('./U-2-Net/test_data/test_results/' + os.sep + '*'))"
   ]
  },
  {
   "cell_type": "code",
   "execution_count": 7,
   "metadata": {},
   "outputs": [],
   "source": [
    "img = preprocess(mask_data[0], 224)"
   ]
  },
  {
   "cell_type": "code",
   "execution_count": 8,
   "metadata": {},
   "outputs": [
    {
     "data": {
      "text/plain": [
       "<matplotlib.image.AxesImage at 0x7f32fc4a6b10>"
      ]
     },
     "execution_count": 8,
     "metadata": {},
     "output_type": "execute_result"
    },
    {
     "data": {
      "image/png": "[encoded data removed]",
      "text/plain": [
       "<Figure size 432x288 with 1 Axes>"
      ]
     },
     "metadata": {
      "needs_background": "light"
     },
     "output_type": "display_data"
    }
   ],
   "source": [
    "plt.imshow(img.numpy()/255)"
   ]
  },
  {
   "cell_type": "code",
   "execution_count": 9,
   "metadata": {},
   "outputs": [],
   "source": [
    "from sklearn.metrics import accuracy_score"
   ]
  },
  {
   "cell_type": "code",
   "execution_count": 10,
   "metadata": {},
   "outputs": [],
   "source": [
    "# preds = []\n",
    "# labels = []\n",
    "# for file in data:\n",
    "#     img = preprocess(file, 224)\n",
    "#     inputs = np.expand_dims(img, axis=0)\n",
    "#     pred = model.predict(inputs)\n",
    "#     pred_class = classes[pred.argmax(-1)[0]]\n",
    "#     pred_conf = pred[0][pred.argmax(-1)[0]]\n",
    "#     if pred_conf <= 0.5:\n",
    "#         pred_class = 'is_null'\n",
    "#     preds.append(pred_class)\n",
    "#     gt = file.split('.')[0][-1]\n",
    "#     if gt not in classes:\n",
    "#         gt = 'is_null'\n",
    "#     labels.append(gt)"
   ]
  },
  {
   "cell_type": "code",
   "execution_count": 11,
   "metadata": {},
   "outputs": [],
   "source": [
    "# accuracy_score(labels, preds)"
   ]
  },
  {
   "cell_type": "code",
   "execution_count": 14,
   "metadata": {},
   "outputs": [],
   "source": [
    "cnt = 0\n",
    "for org, mask in zip(org_data, mask_data):\n",
    "    img = preprocess(mask, 224)\n",
    "    inputs = np.expand_dims(img, axis=0)\n",
    "    pred = model.predict(inputs)\n",
    "    pred_class = classes[pred.argmax(-1)[0]]\n",
    "    pred_conf = pred[0][pred.argmax(-1)[0]]\n",
    "    if pred_conf <= 0.5:\n",
    "        pred_class = 'isnull'\n",
    "    cnt+=1\n",
    "    shutil.copy(org, f'./output/{str(cnt).zfill(5)}_{pred_class}.jpg')"
   ]
  },
  {
   "cell_type": "code",
   "execution_count": null,
   "metadata": {},
   "outputs": [],
   "source": []
  }
 ],
 "metadata": {
  "kernelspec": {
   "display_name": "Python 3",
   "language": "python",
   "name": "python3"
  },
  "language_info": {
   "codemirror_mode": {
    "name": "ipython",
    "version": 3
   },
   "file_extension": ".py",
   "mimetype": "text/x-python",
   "name": "python",
   "nbconvert_exporter": "python",
   "pygments_lexer": "ipython3",
   "version": "3.7.6"
  }
 },
 "nbformat": 4,
 "nbformat_minor": 4
}
